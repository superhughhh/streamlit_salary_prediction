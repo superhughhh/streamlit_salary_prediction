{
 "cells": [
  {
   "cell_type": "code",
   "execution_count": 11,
   "metadata": {},
   "outputs": [
    {
     "name": "stdout",
     "output_type": "stream",
     "text": [
      "http://127.0.0.1:8000/\n",
      "?job_title=Data Scientist&company_size=Large&company_country_location=United States of America&experience_level=Intermediate&employee_country_residence=Germany&remote_ratio=0\n"
     ]
    },
    {
     "data": {
      "text/plain": [
       "{'prediction du salaire en $': 94727}"
      ]
     },
     "execution_count": 11,
     "metadata": {},
     "output_type": "execute_result"
    }
   ],
   "source": [
    "import requests\n",
    "\n",
    "\n",
    "class Api:\n",
    "\n",
    "    API_URL = 'http://127.0.0.1:8000/'\n",
    "    #API_URL = 'https://af65-86-215-127-124.eu.ngrok.io/'\n",
    "\n",
    "\n",
    "    @classmethod\n",
    "    def get_data(self, job_title, company_size, company_country_location, experience_level, employee_country_residence, remote_ratio):\n",
    "        query = f'''\n",
    "        ?job_title={job_title}&\n",
    "        company_size={company_size}&\n",
    "        company_country_location={company_country_location}&\n",
    "        experience_level={experience_level}&\n",
    "        employee_country_residence={employee_country_residence}&\n",
    "        remote_ratio={remote_ratio}'''\n",
    "        res = requests.get(f\"{self.API_URL}{query}\").json()\n",
    "        return res#['prediction du salaire en $']\n",
    "    \n",
    "\n",
    "Api().get_data()"
   ]
  },
  {
   "cell_type": "code",
   "execution_count": 53,
   "metadata": {},
   "outputs": [
    {
     "data": {
      "text/plain": [
       "{'job_title_choice': {'data_scientist': 'Data Scientist',\n",
       "  'data_engeering_manager': 'Data Engineering Manager',\n",
       "  'principal_data_scientist': 'Principal Data Scientist',\n",
       "  'data_analytics_engineer': 'Data Analytics Engineer',\n",
       "  'data_science_consultant': 'Data Science Consultant',\n",
       "  'machine_learning_engineer': 'Machine Learning Engineer',\n",
       "  'director_of_data_science': 'Director of Data Science',\n",
       "  'data_analyst': 'Data Analyst',\n",
       "  'data_engineer': 'Data Engineer',\n",
       "  'business_data_analyst': 'Business Data Analyst',\n",
       "  'bi_data_analyst': 'BI Data Analyst',\n",
       "  'big_data_engineer': 'Big Data Engineer',\n",
       "  'data_science_manager': 'Data Science Manager',\n",
       "  'head_of_data': 'Head of Data',\n",
       "  'machine_learning_scientist': 'Machine Learning Scientist',\n",
       "  'data_analytics_manager': 'Data Analytics Manager',\n",
       "  'data_architect': 'Data Architect',\n",
       "  'head_of_data_science': 'Head of Data Science',\n",
       "  'analytics_engieneer': 'Analytics Engineer',\n",
       "  'ai_scientist': 'AI Scientist',\n",
       "  'computer_vision_engieneer': 'Computer Vision Engineer',\n",
       "  'research_scientist': 'Research Scientist',\n",
       "  'applied_data_scientist': 'Applied Data Scientist',\n",
       "  'lead_data_engineer': 'Lead Data Engineer'},\n",
       " 'company_size_choice': {'large': 'Large',\n",
       "  'small': 'Small',\n",
       "  'medium': 'Medium'},\n",
       " 'company_country_location_choice': {'germany': 'Germany',\n",
       "  'usa': 'United States of America',\n",
       "  'uk': 'United Kingdom of Great Britain and Northern Ireland',\n",
       "  'canada': 'Canada',\n",
       "  'france': 'France',\n",
       "  'spain': 'Spain',\n",
       "  'india': 'India',\n",
       "  'greece': 'Greece'},\n",
       " 'experience_level_choice': {'intermediate': 'Intermediate',\n",
       "  'senior': 'Senior',\n",
       "  'junior': 'Junior',\n",
       "  'expert': 'Expert'},\n",
       " 'employee_country_residence_choice': {'germany': 'Germany',\n",
       "  'usa': 'United States of America',\n",
       "  'uk': 'United Kingdom of Great Britain and Northern Ireland',\n",
       "  'canada': 'Canada',\n",
       "  'france': 'France',\n",
       "  'spain': 'Spain',\n",
       "  'india': 'India',\n",
       "  'greece': 'Greece',\n",
       "  'pakistan': 'Pakistan',\n",
       "  'netherlands': 'Netherlands',\n",
       "  'brazil': 'Brazil',\n",
       "  'poland': 'Poland'},\n",
       " 'remote_ratio_choice': {'data_scientist': '0',\n",
       "  'data_engeering_manager': '50',\n",
       "  'principal_data_scientist': '100'}}"
      ]
     },
     "execution_count": 53,
     "metadata": {},
     "output_type": "execute_result"
    }
   ],
   "source": [
    "import json\n",
    "\n",
    "with open(\"possibles_values.json\", \"r\") as json_file:\n",
    "    possibles_values = json.load(json_file)\n",
    "possibles_values"
   ]
  },
  {
   "cell_type": "code",
   "execution_count": 55,
   "metadata": {},
   "outputs": [
    {
     "data": {
      "text/plain": [
       "dict_keys(['data_scientist', 'data_engeering_manager', 'principal_data_scientist', 'data_analytics_engineer', 'data_science_consultant', 'machine_learning_engineer', 'director_of_data_science', 'data_analyst', 'data_engineer', 'business_data_analyst', 'bi_data_analyst', 'big_data_engineer', 'data_science_manager', 'head_of_data', 'machine_learning_scientist', 'data_analytics_manager', 'data_architect', 'head_of_data_science', 'analytics_engieneer', 'ai_scientist', 'computer_vision_engieneer', 'research_scientist', 'applied_data_scientist', 'lead_data_engineer'])"
      ]
     },
     "execution_count": 55,
     "metadata": {},
     "output_type": "execute_result"
    }
   ],
   "source": [
    "possibles_values[\"job_title_choice\"].values()\n",
    "#possibles_values[\"job_title_choice\"].keys()"
   ]
  },
  {
   "cell_type": "code",
   "execution_count": 57,
   "metadata": {},
   "outputs": [
    {
     "data": {
      "text/plain": [
       "['job_title_choice',\n",
       " 'company_size_choice',\n",
       " 'company_country_location_choice',\n",
       " 'experience_level_choice',\n",
       " 'employee_country_residence_choice',\n",
       " 'remote_ratio_choice']"
      ]
     },
     "execution_count": 57,
     "metadata": {},
     "output_type": "execute_result"
    }
   ],
   "source": [
    "list(possibles_values.keys())"
   ]
  },
  {
   "cell_type": "code",
   "execution_count": 58,
   "metadata": {},
   "outputs": [
    {
     "data": {
      "text/plain": [
       "{'job_title_choice': ['Data Scientist',\n",
       "  'Data Engineering Manager',\n",
       "  'Principal Data Scientist',\n",
       "  'Data Analytics Engineer',\n",
       "  'Data Science Consultant',\n",
       "  'Machine Learning Engineer',\n",
       "  'Director of Data Science',\n",
       "  'Data Analyst',\n",
       "  'Data Engineer',\n",
       "  'Business Data Analyst',\n",
       "  'BI Data Analyst',\n",
       "  'Big Data Engineer',\n",
       "  'Data Science Manager',\n",
       "  'Head of Data',\n",
       "  'Machine Learning Scientist',\n",
       "  'Data Analytics Manager',\n",
       "  'Data Architect',\n",
       "  'Head of Data Science',\n",
       "  'Analytics Engineer',\n",
       "  'AI Scientist',\n",
       "  'Computer Vision Engineer',\n",
       "  'Research Scientist',\n",
       "  'Applied Data Scientist',\n",
       "  'Lead Data Engineer'],\n",
       " 'company_size_choice': ['Large', 'Small', 'Medium'],\n",
       " 'company_country_location_choice': ['Germany',\n",
       "  'United States of America',\n",
       "  'United Kingdom of Great Britain and Northern Ireland',\n",
       "  'Canada',\n",
       "  'France',\n",
       "  'Spain',\n",
       "  'India',\n",
       "  'Greece'],\n",
       " 'experience_level_choice': ['Intermediate', 'Senior', 'Junior', 'Expert'],\n",
       " 'employee_country_residence_choice': ['Germany',\n",
       "  'United States of America',\n",
       "  'United Kingdom of Great Britain and Northern Ireland',\n",
       "  'Canada',\n",
       "  'France',\n",
       "  'Spain',\n",
       "  'India',\n",
       "  'Greece',\n",
       "  'Pakistan',\n",
       "  'Netherlands',\n",
       "  'Brazil',\n",
       "  'Poland'],\n",
       " 'remote_ratio_choice': ['0', '50', '100']}"
      ]
     },
     "execution_count": 58,
     "metadata": {},
     "output_type": "execute_result"
    }
   ],
   "source": [
    "new_json = {}\n",
    "for cat in list(possibles_values.keys()):\n",
    "    new_json[cat] = list(possibles_values[cat].values())\n",
    "    "
   ]
  },
  {
   "cell_type": "code",
   "execution_count": 60,
   "metadata": {},
   "outputs": [],
   "source": [
    "with open(\"possible_values_2.json\",\"w\") as f:\n",
    "    f.write(json.dumps(new_json))"
   ]
  },
  {
   "cell_type": "code",
   "execution_count": 3,
   "metadata": {},
   "outputs": [
    {
     "data": {
      "text/plain": [
       "{'job_title_choice': ['Data Scientist',\n",
       "  'Data Engineering Manager',\n",
       "  'Principal Data Scientist',\n",
       "  'Data Analytics Engineer',\n",
       "  'Data Science Consultant',\n",
       "  'Machine Learning Engineer',\n",
       "  'Director of Data Science',\n",
       "  'Data Analyst',\n",
       "  'Data Engineer',\n",
       "  'Business Data Analyst',\n",
       "  'BI Data Analyst',\n",
       "  'Big Data Engineer',\n",
       "  'Data Science Manager',\n",
       "  'Head of Data',\n",
       "  'Machine Learning Scientist',\n",
       "  'Data Analytics Manager',\n",
       "  'Data Architect',\n",
       "  'Head of Data Science',\n",
       "  'Analytics Engineer',\n",
       "  'AI Scientist',\n",
       "  'Computer Vision Engineer',\n",
       "  'Research Scientist',\n",
       "  'Applied Data Scientist',\n",
       "  'Lead Data Engineer'],\n",
       " 'company_size_choice': ['Large', 'Small', 'Medium'],\n",
       " 'company_country_location_choice': ['Germany',\n",
       "  'United States of America',\n",
       "  'United Kingdom of Great Britain and Northern Ireland',\n",
       "  'Canada',\n",
       "  'France',\n",
       "  'Spain',\n",
       "  'India',\n",
       "  'Greece'],\n",
       " 'experience_level_choice': ['Intermediate', 'Senior', 'Junior', 'Expert'],\n",
       " 'employee_country_residence_choice': ['Germany',\n",
       "  'United States of America',\n",
       "  'United Kingdom of Great Britain and Northern Ireland',\n",
       "  'Canada',\n",
       "  'France',\n",
       "  'Spain',\n",
       "  'India',\n",
       "  'Greece',\n",
       "  'Pakistan',\n",
       "  'Netherlands',\n",
       "  'Brazil',\n",
       "  'Poland'],\n",
       " 'remote_ratio_choice': ['0', '50', '100']}"
      ]
     },
     "execution_count": 3,
     "metadata": {},
     "output_type": "execute_result"
    }
   ],
   "source": [
    "import json\n",
    "\n",
    "with open(\"possible_values_2.json\", \"r\") as json_file:\n",
    "    possibles_values = json.load(json_file)\n",
    "possibles_values"
   ]
  },
  {
   "cell_type": "code",
   "execution_count": 7,
   "metadata": {},
   "outputs": [
    {
     "data": {
      "text/plain": [
       "dict_keys(['job_title_choice', 'company_size_choice', 'company_country_location_choice', 'experience_level_choice', 'employee_country_residence_choice', 'remote_ratio_choice'])"
      ]
     },
     "execution_count": 7,
     "metadata": {},
     "output_type": "execute_result"
    }
   ],
   "source": [
    "possibles_values.keys()\n",
    "\n"
   ]
  },
  {
   "cell_type": "code",
   "execution_count": 8,
   "metadata": {},
   "outputs": [
    {
     "data": {
      "text/plain": [
       "{'experience_level_choice': ['Intermediate', 'Senior', 'Junior', 'Expert'],\n",
       " 'remote_ratio_choice': ['0', '50', '100'],\n",
       " 'company_size_choice': ['Large', 'Small', 'Medium'],\n",
       " 'job_title_choice': ['Data Scientist',\n",
       "  'Data Engineering Manager',\n",
       "  'Principal Data Scientist',\n",
       "  'Data Analytics Engineer',\n",
       "  'Data Science Consultant',\n",
       "  'Machine Learning Engineer',\n",
       "  'Director of Data Science',\n",
       "  'Data Analyst',\n",
       "  'Data Engineer',\n",
       "  'Business Data Analyst',\n",
       "  'BI Data Analyst',\n",
       "  'Big Data Engineer',\n",
       "  'Data Science Manager',\n",
       "  'Head of Data',\n",
       "  'Machine Learning Scientist',\n",
       "  'Data Analytics Manager',\n",
       "  'Data Architect',\n",
       "  'Head of Data Science',\n",
       "  'Analytics Engineer',\n",
       "  'AI Scientist',\n",
       "  'Computer Vision Engineer',\n",
       "  'Research Scientist',\n",
       "  'Applied Data Scientist',\n",
       "  'Lead Data Engineer'],\n",
       " 'company_country_location_choice': ['Germany',\n",
       "  'United States of America',\n",
       "  'United Kingdom of Great Britain and Northern Ireland',\n",
       "  'Canada',\n",
       "  'France',\n",
       "  'Spain',\n",
       "  'India',\n",
       "  'Greece'],\n",
       " 'employee_country_residence_choice': ['Germany',\n",
       "  'United States of America',\n",
       "  'United Kingdom of Great Britain and Northern Ireland',\n",
       "  'Canada',\n",
       "  'France',\n",
       "  'Spain',\n",
       "  'India',\n",
       "  'Greece',\n",
       "  'Pakistan',\n",
       "  'Netherlands',\n",
       "  'Brazil',\n",
       "  'Poland']}"
      ]
     },
     "execution_count": 8,
     "metadata": {},
     "output_type": "execute_result"
    }
   ],
   "source": [
    "keys = ['experience_level_choice','remote_ratio_choice','company_size_choice','job_title_choice','company_country_location_choice','employee_country_residence_choice']\n",
    "\n",
    "new_json_2 = {}\n",
    "for cat in keys:\n",
    "    new_json_2[cat] = possibles_values[cat]\n",
    "\n",
    "new_json_2"
   ]
  },
  {
   "cell_type": "code",
   "execution_count": 9,
   "metadata": {},
   "outputs": [],
   "source": [
    "with open(\"possibles_values_2.json\",\"w\") as f:\n",
    "    f.write(json.dumps(new_json_2))"
   ]
  }
 ],
 "metadata": {
  "kernelspec": {
   "display_name": "simplon",
   "language": "python",
   "name": "python3"
  },
  "language_info": {
   "codemirror_mode": {
    "name": "ipython",
    "version": 3
   },
   "file_extension": ".py",
   "mimetype": "text/x-python",
   "name": "python",
   "nbconvert_exporter": "python",
   "pygments_lexer": "ipython3",
   "version": "3.8.12"
  },
  "orig_nbformat": 4,
  "vscode": {
   "interpreter": {
    "hash": "5ffc3325ec5109096cbaad909e2c7efe120797c08b76aeb49d9e3349cd32bd2b"
   }
  }
 },
 "nbformat": 4,
 "nbformat_minor": 2
}
